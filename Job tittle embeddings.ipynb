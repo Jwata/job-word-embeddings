{
 "cells": [
  {
   "cell_type": "markdown",
   "metadata": {},
   "source": [
    "# Introduction\n",
    "\n",
    "In this notebook, we will implement word embeddings for job title using [Word2vec](https://en.wikipedia.org/wiki/Word2vec). By implementing this, you will learn about embedding job titles. this will be useful when calculating similarity for job matching.\n",
    "\n",
    "Table of contents\n",
    "\n",
    "- [Word embeddings, word2vec](#Word-embeddings,-word2vec)\n",
    "- [Job posting data](#Job-posting-data)\n",
    "- [Data preprocessing](#Data-preprocessing)\n",
    "- [Training](#Training)\n",
    "- [Reading](#Reading)\n"
   ]
  },
  {
   "attachments": {},
   "cell_type": "markdown",
   "metadata": {},
   "source": [
    "# Word embeddings, word2vec\n",
    "Word2vec is a machine learning model used for learning vector representation of words, called \"word embeddings\".\n",
    "Before starting implemenation, let's look at why we would want to learn work embeddings in the first place.\n",
    "\n",
    "## Why learn word embeddings?\n",
    "Natural language processing traditonally convert words to discrete symboles or ids. like `cat`, `dog` ->` 101`, `213`  \n",
    "These encondings provide no useful information about relationships that may exist between individual symbols. representing words as unique, discrete ids furthermore leads to data sparsity, and requires many data. using vector representations can overcome some of these issues.\n",
    "\n",
    "## Word2vec\n",
    "Word2vec is a neural network model which allows you to vectorize words.\n",
    "If you are interested in how to calculate vectors of words, read some of readings listed below.\n",
    "\n",
    "<img src=\"assets/word2vec_diagrams.png\" width=\"700\">\n",
    "\n",
    "Each word will be located as a point in hundreds-dimentional vectorspace (practically 300 - 500 dimentions). a well trained set of word vectors will place similar words close to eh other in that space. for instance, `dogs` and `cats` might cluster in one corner, while `war`, `conflict` and `strife` do in another.\n",
    "Word2vec can learn many associations other than similarity. for instance, it can gauge relations between words of one language, and map them to another.\n",
    "\n",
    "<img src=\"assets/word2vec_translation.png\" width=\"700\">\n",
    "\n",
    "You can also do the following calculations with these vectors.\n",
    "\n",
    "```\n",
    "Rome - Italy + Japan = Tokyo\n",
    "```\n",
    "```\n",
    "king - man + woman = queen\n",
    "```\n",
    "\n",
    "<img src=\"assets/countries_capitals.png\" width=\"700\">"
   ]
  },
  {
   "cell_type": "markdown",
   "metadata": {},
   "source": [
    "## How are job title embeddings useful?\n",
    "One of the reasons why we would want to learn \"job title embeddings\" is that it will be useful when calculating similar jobs with your current job title for job matching, which is difficult to be done by traditonal search-based system.  \n",
    "We will see potential applications using the embeddings later in this notebook.\n",
    "\n",
    "|Target job|Similar jobs|\n",
    "|---|---|\n",
    "|Web engineer| Server side eingeer, fullstack engineer, front-end engineer|\n",
    "|Infra engineer| Devops engineer, System reliability engineer|\n",
    "|Data scientist| Data analyist, Data engineer, Machine learning engineer|"
   ]
  },
  {
   "cell_type": "markdown",
   "metadata": {},
   "source": [
    "# Job posting data\n",
    "We need job titles and descriptions of them to learn what each title means.   \n",
    "We will use job posting data crawed from [Green Japan](https://www.green-japan.com/) because that service focuses on web/IT industry and we can expect to get good understaindng of words in the specific industry.\n",
    "Let's look at the raw data first."
   ]
  },
  {
   "cell_type": "code",
   "execution_count": 445,
   "metadata": {},
   "outputs": [
    {
     "data": {
      "text/html": [
       "<div>\n",
       "<style scoped>\n",
       "    .dataframe tbody tr th:only-of-type {\n",
       "        vertical-align: middle;\n",
       "    }\n",
       "\n",
       "    .dataframe tbody tr th {\n",
       "        vertical-align: top;\n",
       "    }\n",
       "\n",
       "    .dataframe thead th {\n",
       "        text-align: right;\n",
       "    }\n",
       "</style>\n",
       "<table border=\"1\" class=\"dataframe\">\n",
       "  <thead>\n",
       "    <tr style=\"text-align: right;\">\n",
       "      <th></th>\n",
       "      <th>_type</th>\n",
       "      <th>about_company</th>\n",
       "      <th>department</th>\n",
       "      <th>job_highlight</th>\n",
       "      <th>job_title</th>\n",
       "      <th>location</th>\n",
       "      <th>page_title</th>\n",
       "      <th>page_url</th>\n",
       "      <th>reason_for_hiring</th>\n",
       "      <th>requirements</th>\n",
       "      <th>salary</th>\n",
       "      <th>summary</th>\n",
       "      <th>tags</th>\n",
       "    </tr>\n",
       "  </thead>\n",
       "  <tbody>\n",
       "    <tr>\n",
       "      <th>0</th>\n",
       "      <td>dict</td>\n",
       "      <td>ミッション「CLOSING THE DISTANCE」を軸に、人と人、様々な情報・サービスを...</td>\n",
       "      <td>NaN</td>\n",
       "      <td>【仕事の魅力】\\n・900名規模のグローバルカンパニーで人事労務のキャリアを積むことができる...</td>\n",
       "      <td>人事労務</td>\n",
       "      <td>福岡県</td>\n",
       "      <td>【LINE】社員がやりがいをもって働ける環境を整える、人事労務</td>\n",
       "      <td>https://www.green-japan.com/job/60202</td>\n",
       "      <td>NaN</td>\n",
       "      <td>【必須の経験・スキル】\\n・人事労務業務経験3年以上\\n【歓迎する経験・スキル】\\n・有期雇...</td>\n",
       "      <td>400万円〜</td>\n",
       "      <td>LINEおよび関連サービスの開発・クリエイティブ・運営・企画営業などあらゆる業務を行っていま...</td>\n",
       "      <td>#企画営業</td>\n",
       "    </tr>\n",
       "    <tr>\n",
       "      <th>1</th>\n",
       "      <td>dict</td>\n",
       "      <td>ミッション「CLOSING THE DISTANCE」を軸に、人と人、様々な情報・サービスを...</td>\n",
       "      <td>NaN</td>\n",
       "      <td>【仕事の魅力】\\n・勢いのある広告サービスの利用規模拡大に携わることができる\\n・ワークライ...</td>\n",
       "      <td>BtoBテレマーケティング担当(広告関連サービス/SV候補)</td>\n",
       "      <td>福岡県</td>\n",
       "      <td>【LINE】LINE広告関連サービスのテレマーケティング担当(SV候補)</td>\n",
       "      <td>https://www.green-japan.com/job/60664</td>\n",
       "      <td>事業拡大による増員</td>\n",
       "      <td>【必須の経験・スキル】\\n・勢いのある広告サービスの利用規模拡大に携わることができる\\n・ワ...</td>\n",
       "      <td>350万円〜</td>\n",
       "      <td>LINEおよび関連サービスの開発・クリエイティブ・運営・企画営業などあらゆる業務を行っていま...</td>\n",
       "      <td>#企画営業</td>\n",
       "    </tr>\n",
       "    <tr>\n",
       "      <th>2</th>\n",
       "      <td>dict</td>\n",
       "      <td>ミッション「CLOSING THE DISTANCE」を軸に、人と人、様々な情報・サービスを...</td>\n",
       "      <td>NaN</td>\n",
       "      <td>【仕事の魅力】\\n・グローバルに展開しているゲームのマーケティングを経験できる\\n・プラット...</td>\n",
       "      <td>マーケティング・プロモーション担当(LINEゲーム)</td>\n",
       "      <td>福岡県</td>\n",
       "      <td>【LINE】ゲームタイトルのプロモーション企画をおこなうマーケティング担当</td>\n",
       "      <td>https://www.green-japan.com/job/60809</td>\n",
       "      <td>事業拡大による増員</td>\n",
       "      <td>【必須の経験・スキル】\\n・プロモーション企画の提案・実施経験\\n・広告のバナー制作・配信設...</td>\n",
       "      <td>350万円〜</td>\n",
       "      <td>LINEおよび関連サービスの開発・クリエイティブ・運営・企画営業などあらゆる業務を行っていま...</td>\n",
       "      <td>#企画営業</td>\n",
       "    </tr>\n",
       "    <tr>\n",
       "      <th>3</th>\n",
       "      <td>dict</td>\n",
       "      <td>＜会社概要＞\\n今年で12期のまだまだ若くエネルギッシュな会社です。\\n「いつも心にエンタテ...</td>\n",
       "      <td>テクノロジーソリューション事業部への配属となります。</td>\n",
       "      <td>【得られるスキル】 \\n・カスタマーサクセスチームの立ち上げ経験 \\n・グローバルで事業をグ...</td>\n",
       "      <td>【急成長イスラエルITベンチャーと働く】カスタマーサクセス職</td>\n",
       "      <td>東京都</td>\n",
       "      <td>急成長イスラエルITベンチャーと働く、カスタマーサクセスを大募集！</td>\n",
       "      <td>https://www.green-japan.com/job/54107</td>\n",
       "      <td>最先端ツールでWEB業界を革新中の弊社がさらなる成長を目指すため、\\n一緒にカスタマーサクセ...</td>\n",
       "      <td>【必須スキル】 \\n・BtoBセールス実務経験 \\n・実務レベルの英語力 \\n・Excel/...</td>\n",
       "      <td>300万円〜600万円</td>\n",
       "      <td>■Webマーケティング事業\\n■テクノロジーソリューション事業\\n\\n      今回募集を...</td>\n",
       "      <td>#グローバル化\\n#イスラエル\\n#一気通貫</td>\n",
       "    </tr>\n",
       "    <tr>\n",
       "      <th>4</th>\n",
       "      <td>dict</td>\n",
       "      <td>＜会社概要＞\\n今年で12期のまだまだ若くエネルギッシュな会社です。\\n「いつも心にエンタテ...</td>\n",
       "      <td>テクノロジーソリューション事業部への配属となります。</td>\n",
       "      <td>【得られるスキル】 \\n・潜在的な事業課題を導き出す高いヒアリング力 \\n・チームの仕組み化...</td>\n",
       "      <td>【最先端ツールでWEB業界を変える】セールス職</td>\n",
       "      <td>東京都</td>\n",
       "      <td>急成長中！イスラエル・シリコンバレースタートアップと働く営業を募集中！</td>\n",
       "      <td>https://www.green-japan.com/job/54101</td>\n",
       "      <td>最先端ツールでWEB業界を革新中の弊社がさらなる成長を目指すため、\\n一緒にセールスを行って...</td>\n",
       "      <td>【必須スキル】 \\n・複数の関係者と協業できるコミュニケーション能力 \\n・BtoBセールス...</td>\n",
       "      <td>300万円〜600万円</td>\n",
       "      <td>■Webマーケティング事業\\n■テクノロジーソリューション事業\\n\\n      ギャプライ...</td>\n",
       "      <td>#グローバル化\\n#イスラエル\\n#一気通貫</td>\n",
       "    </tr>\n",
       "  </tbody>\n",
       "</table>\n",
       "</div>"
      ],
      "text/plain": [
       "  _type                                      about_company  \\\n",
       "0  dict  ミッション「CLOSING THE DISTANCE」を軸に、人と人、様々な情報・サービスを...   \n",
       "1  dict  ミッション「CLOSING THE DISTANCE」を軸に、人と人、様々な情報・サービスを...   \n",
       "2  dict  ミッション「CLOSING THE DISTANCE」を軸に、人と人、様々な情報・サービスを...   \n",
       "3  dict  ＜会社概要＞\\n今年で12期のまだまだ若くエネルギッシュな会社です。\\n「いつも心にエンタテ...   \n",
       "4  dict  ＜会社概要＞\\n今年で12期のまだまだ若くエネルギッシュな会社です。\\n「いつも心にエンタテ...   \n",
       "\n",
       "                   department  \\\n",
       "0                         NaN   \n",
       "1                         NaN   \n",
       "2                         NaN   \n",
       "3  テクノロジーソリューション事業部への配属となります。   \n",
       "4  テクノロジーソリューション事業部への配属となります。   \n",
       "\n",
       "                                       job_highlight  \\\n",
       "0  【仕事の魅力】\\n・900名規模のグローバルカンパニーで人事労務のキャリアを積むことができる...   \n",
       "1  【仕事の魅力】\\n・勢いのある広告サービスの利用規模拡大に携わることができる\\n・ワークライ...   \n",
       "2  【仕事の魅力】\\n・グローバルに展開しているゲームのマーケティングを経験できる\\n・プラット...   \n",
       "3  【得られるスキル】 \\n・カスタマーサクセスチームの立ち上げ経験 \\n・グローバルで事業をグ...   \n",
       "4  【得られるスキル】 \\n・潜在的な事業課題を導き出す高いヒアリング力 \\n・チームの仕組み化...   \n",
       "\n",
       "                        job_title location  \\\n",
       "0                            人事労務      福岡県   \n",
       "1  BtoBテレマーケティング担当(広告関連サービス/SV候補)      福岡県   \n",
       "2      マーケティング・プロモーション担当(LINEゲーム)      福岡県   \n",
       "3  【急成長イスラエルITベンチャーと働く】カスタマーサクセス職      東京都   \n",
       "4         【最先端ツールでWEB業界を変える】セールス職      東京都   \n",
       "\n",
       "                              page_title  \\\n",
       "0        【LINE】社員がやりがいをもって働ける環境を整える、人事労務   \n",
       "1   【LINE】LINE広告関連サービスのテレマーケティング担当(SV候補)   \n",
       "2  【LINE】ゲームタイトルのプロモーション企画をおこなうマーケティング担当   \n",
       "3      急成長イスラエルITベンチャーと働く、カスタマーサクセスを大募集！   \n",
       "4    急成長中！イスラエル・シリコンバレースタートアップと働く営業を募集中！   \n",
       "\n",
       "                                page_url  \\\n",
       "0  https://www.green-japan.com/job/60202   \n",
       "1  https://www.green-japan.com/job/60664   \n",
       "2  https://www.green-japan.com/job/60809   \n",
       "3  https://www.green-japan.com/job/54107   \n",
       "4  https://www.green-japan.com/job/54101   \n",
       "\n",
       "                                   reason_for_hiring  \\\n",
       "0                                                NaN   \n",
       "1                                          事業拡大による増員   \n",
       "2                                          事業拡大による増員   \n",
       "3  最先端ツールでWEB業界を革新中の弊社がさらなる成長を目指すため、\\n一緒にカスタマーサクセ...   \n",
       "4  最先端ツールでWEB業界を革新中の弊社がさらなる成長を目指すため、\\n一緒にセールスを行って...   \n",
       "\n",
       "                                        requirements       salary  \\\n",
       "0  【必須の経験・スキル】\\n・人事労務業務経験3年以上\\n【歓迎する経験・スキル】\\n・有期雇...       400万円〜   \n",
       "1  【必須の経験・スキル】\\n・勢いのある広告サービスの利用規模拡大に携わることができる\\n・ワ...       350万円〜   \n",
       "2  【必須の経験・スキル】\\n・プロモーション企画の提案・実施経験\\n・広告のバナー制作・配信設...       350万円〜   \n",
       "3  【必須スキル】 \\n・BtoBセールス実務経験 \\n・実務レベルの英語力 \\n・Excel/...  300万円〜600万円   \n",
       "4  【必須スキル】 \\n・複数の関係者と協業できるコミュニケーション能力 \\n・BtoBセールス...  300万円〜600万円   \n",
       "\n",
       "                                             summary                    tags  \n",
       "0  LINEおよび関連サービスの開発・クリエイティブ・運営・企画営業などあらゆる業務を行っていま...                   #企画営業  \n",
       "1  LINEおよび関連サービスの開発・クリエイティブ・運営・企画営業などあらゆる業務を行っていま...                   #企画営業  \n",
       "2  LINEおよび関連サービスの開発・クリエイティブ・運営・企画営業などあらゆる業務を行っていま...                   #企画営業  \n",
       "3  ■Webマーケティング事業\\n■テクノロジーソリューション事業\\n\\n      今回募集を...  #グローバル化\\n#イスラエル\\n#一気通貫  \n",
       "4  ■Webマーケティング事業\\n■テクノロジーソリューション事業\\n\\n      ギャプライ...  #グローバル化\\n#イスラエル\\n#一気通貫  "
      ]
     },
     "execution_count": 445,
     "metadata": {},
     "output_type": "execute_result"
    }
   ],
   "source": [
    "import pandas as pd\n",
    "\n",
    "job_postings = pd.read_csv('./data/job_postings.csv')\n",
    "job_postings.head()"
   ]
  },
  {
   "cell_type": "markdown",
   "metadata": {},
   "source": [
    "The dataset has 12130 postings with 13 fields: `job_title`, `summary`, `requirements`, `salary`, `location` etc. some explain job title well, other don't. we can decide which fields to use for learning."
   ]
  },
  {
   "cell_type": "markdown",
   "metadata": {},
   "source": [
    "# Data preprocessing\n"
   ]
  },
  {
   "cell_type": "code",
   "execution_count": 227,
   "metadata": {},
   "outputs": [],
   "source": [
    "import re\n",
    "import unicodedata\n",
    "\n",
    "job_titles = job_postings['job_title']\n",
    "\n",
    "def strip_brackets(text):\n",
    "    text = unicodedata.normalize('NFKC', text)\n",
    "    text = re.sub(r'【.*】', '', text)\n",
    "    text = re.sub(r'\\[.*\\]', '', text)\n",
    "    text = re.sub(r'「.*」', '', text)\n",
    "    text = re.sub(r'\\(.*\\)', '', text)\n",
    "    text = re.sub(r'\\<\\S*\\>', '', text)\n",
    "    text = re.sub(r'[※@◎].*$', '', text)\n",
    "    return text\n",
    "\n",
    "def normalize_job_title(title):\n",
    "    title = strip_brackets(title)\n",
    "    title = title.lower()\n",
    "    return title"
   ]
  },
  {
   "cell_type": "code",
   "execution_count": 383,
   "metadata": {},
   "outputs": [],
   "source": [
    "import MeCab\n",
    "tagger = MeCab.Tagger(\"-U %m,未知語\\\\t -F %f[0],%f[6]\\\\t  -d  /usr/local/lib/mecab/dic/mecab-ipadic-neologd\")\n",
    "\n",
    "def extract_nouns(text): \n",
    "    words = []\n",
    "    for row in tagger.parse(text).split('\\t'):\n",
    "        if row.strip() == 'EOS':\n",
    "            continue\n",
    "        t = row.split(',')[0]\n",
    "        w = row.split(',')[1]\n",
    "        if t == '名詞':\n",
    "            words.append(w.strip())\n",
    "    return words\n",
    "\n",
    "def convert_row(row):\n",
    "    converted = []\n",
    "    \n",
    "    title_and_requirements  = [normalize_job_title(row['job_title'])] + extract_nouns(row['requirements'])\n",
    "    converted.append(title_and_requirements)\n",
    "    \n",
    "    summary = extract_nouns(row['summary'])\n",
    "    converted.append(summary)\n",
    "    \n",
    "    return converted"
   ]
  },
  {
   "cell_type": "code",
   "execution_count": 384,
   "metadata": {},
   "outputs": [],
   "source": [
    "# convert data to inputs of Gensim's word2vec API\n",
    "inputs = []\n",
    "for _, p in job_postings.iterrows():\n",
    "    inputs += convert_row(p)"
   ]
  },
  {
   "cell_type": "code",
   "execution_count": 386,
   "metadata": {},
   "outputs": [
    {
     "name": "stdout",
     "output_type": "stream",
     "text": [
      "人事労務 必須 経験 スキル 人事 労務 業務 経験 3年 以上 歓迎 経験 スキル 有期雇用者 労務 相談 経験 社会保険労務士 有 資格者 歓迎 衛生管理者 有 資格者 歓迎 人物 像 バランス感覚 相手 立場 コミュニケーション 方 ポジティブ 問題意識 積極的 業務 方 困難 問題 発生 解決 まい進 方\n"
     ]
    }
   ],
   "source": [
    "print(' '.join(inputs[0]))"
   ]
  },
  {
   "cell_type": "markdown",
   "metadata": {},
   "source": [
    "# Training"
   ]
  },
  {
   "cell_type": "code",
   "execution_count": null,
   "metadata": {},
   "outputs": [],
   "source": [
    "from gensim.models import word2vec\n",
    "\n",
    "model = word2vec.Word2Vec(inputs, size=100, min_count=5, window=10, sg=1) # train with CBOW algorithm \n",
    "\n",
    "model.save('job_title_embeddings.model')"
   ]
  },
  {
   "cell_type": "code",
   "execution_count": null,
   "metadata": {},
   "outputs": [],
   "source": [
    "def similar_words(title):\n",
    "    return model.most_similar(normalize_job_title(title))"
   ]
  },
  {
   "cell_type": "code",
   "execution_count": null,
   "metadata": {},
   "outputs": [],
   "source": [
    "similar_words('Webエンジニア') # web engineer"
   ]
  },
  {
   "cell_type": "code",
   "execution_count": null,
   "metadata": {},
   "outputs": [],
   "source": [
    "similar_words('データエンジニア') # Data engineer"
   ]
  },
  {
   "cell_type": "code",
   "execution_count": null,
   "metadata": {},
   "outputs": [],
   "source": [
    "similar_words('UIデザイナー') # UIデザイナー"
   ]
  },
  {
   "cell_type": "markdown",
   "metadata": {},
   "source": [
    "# Reading\n",
    "Here are some resources which you can learn more about word2vec after workshop.\n",
    "- [Gensim word2vec tutorial](https://rare-technologies.com/word2vec-tutorial/)\n",
    "- [Conceptual overview](http://mccormickml.com/2016/04/19/word2vec-tutorial-the-skip-gram-model/)\n",
    "- [Tensorflow tutorial](https://www.tensorflow.org/tutorials/word2vec)\n",
    "- [Gensim documentation](https://radimrehurek.com/gensim/models/word2vec.html)\n",
    "- [Udacity material](https://github.com/udacity/deep-learning/blob/master/embeddings/Skip-Gram_word2vec.ipynb)"
   ]
  }
 ],
 "metadata": {
  "kernelspec": {
   "display_name": "Python 3",
   "language": "python",
   "name": "python3"
  },
  "language_info": {
   "codemirror_mode": {
    "name": "ipython",
    "version": 3
   },
   "file_extension": ".py",
   "mimetype": "text/x-python",
   "name": "python",
   "nbconvert_exporter": "python",
   "pygments_lexer": "ipython3",
   "version": "3.6.4"
  }
 },
 "nbformat": 4,
 "nbformat_minor": 2
}
